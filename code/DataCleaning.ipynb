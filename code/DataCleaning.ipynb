{
 "cells": [
  {
   "cell_type": "code",
   "execution_count": 1,
   "id": "ecb5944e",
   "metadata": {},
   "outputs": [],
   "source": [
    "import pandas as pd\n",
    "\n",
    "# Load the data\n",
    "data = pd.read_csv('/Users/nicholasnoto/Desktop/CIS 4400/Homework1/Mental_Health_Care_in_the_Last_4_Weeks.csv')\n",
    "\n",
    "# Standardize date formats\n",
    "data['Time Period Start Date'] = pd.to_datetime(data['Time Period Start Date']).dt.strftime('%Y-%m-%d')\n",
    "data['Time Period End Date'] = pd.to_datetime(data['Time Period End Date']).dt.strftime('%Y-%m-%d')\n",
    "\n",
    "# Optional: Splitting date into components\n",
    "data['Start Year'] = pd.to_datetime(data['Time Period Start Date']).dt.year\n",
    "data['Start Month'] = pd.to_datetime(data['Time Period Start Date']).dt.month\n",
    "data['Start Day'] = pd.to_datetime(data['Time Period Start Date']).dt.day\n",
    "\n",
    "# Handle NULLs\n",
    "data = data.dropna(subset=['Value'])  # example of dropping rows where 'Value' is NULL\n",
    "# Alternatively, replace NULLs\n",
    "data['Value'].fillna(data['Value'].mean(), inplace=True)\n",
    "\n",
    "# Remove duplicates\n",
    "data.drop_duplicates(inplace=True)\n",
    "\n",
    "# Save transformed data\n",
    "data.to_csv('/Users/nicholasnoto/Desktop/CIS 4400/Homework1/Mental_Health_Care_in_the_Last_4_Weeks.csv', index=False)\n"
   ]
  },
  {
   "cell_type": "code",
   "execution_count": null,
   "id": "3e49d38c",
   "metadata": {},
   "outputs": [],
   "source": []
  }
 ],
 "metadata": {
  "kernelspec": {
   "display_name": "Python 3 (ipykernel)",
   "language": "python",
   "name": "python3"
  },
  "language_info": {
   "codemirror_mode": {
    "name": "ipython",
    "version": 3
   },
   "file_extension": ".py",
   "mimetype": "text/x-python",
   "name": "python",
   "nbconvert_exporter": "python",
   "pygments_lexer": "ipython3",
   "version": "3.11.5"
  }
 },
 "nbformat": 4,
 "nbformat_minor": 5
}
