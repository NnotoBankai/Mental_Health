{
 "cells": [
  {
   "cell_type": "code",
   "execution_count": 2,
   "id": "85e79fec",
   "metadata": {},
   "outputs": [
    {
     "name": "stdout",
     "output_type": "stream",
     "text": [
      "Data inserted into MongoDB collection 'care_records'\n"
     ]
    }
   ],
   "source": [
    "from pymongo import MongoClient\n",
    "import pandas as pd\n",
    "\n",
    "# MongoDB connection string\n",
    "client = MongoClient('mongodb://localhost:27017')\n",
    "\n",
    "# Create a database called 'mental_health_care_db'\n",
    "db = client['mental_health_care_db']\n",
    "\n",
    "# Create a collection called 'care_records'\n",
    "collection = db['care_records']\n",
    "\n",
    "# Load your data into a pandas DataFrame (Replace 'your_file_path.csv' with your actual file path)\n",
    "data = pd.read_csv('/Users/nicholasnoto/Desktop/CIS 4400/Homework1/Mental_Health_Care_in_the_Last_4_Weeks.csv')\n",
    "\n",
    "# Insert the data into the collection\n",
    "# This example assumes all data is new.\n",
    "collection.insert_many(data.to_dict('records'))\n",
    "\n",
    "print(\"Data inserted into MongoDB collection 'care_records'\")\n"
   ]
  },
  {
   "cell_type": "code",
   "execution_count": null,
   "id": "8579e51d",
   "metadata": {},
   "outputs": [],
   "source": []
  }
 ],
 "metadata": {
  "kernelspec": {
   "display_name": "Python 3 (ipykernel)",
   "language": "python",
   "name": "python3"
  },
  "language_info": {
   "codemirror_mode": {
    "name": "ipython",
    "version": 3
   },
   "file_extension": ".py",
   "mimetype": "text/x-python",
   "name": "python",
   "nbconvert_exporter": "python",
   "pygments_lexer": "ipython3",
   "version": "3.11.5"
  }
 },
 "nbformat": 4,
 "nbformat_minor": 5
}
