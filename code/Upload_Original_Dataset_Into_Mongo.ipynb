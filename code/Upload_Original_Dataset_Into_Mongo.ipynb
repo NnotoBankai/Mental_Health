{
 "cells": [
  {
   "cell_type": "code",
   "execution_count": 1,
   "id": "e047b740",
   "metadata": {},
   "outputs": [
    {
     "name": "stdout",
     "output_type": "stream",
     "text": [
      "Data inserted successfully\n"
     ]
    }
   ],
   "source": [
    "import pandas as pd\n",
    "from pymongo import MongoClient\n",
    "\n",
    "# Load the CSV data\n",
    "df = pd.read_csv('/Users/nicholasnoto/Desktop/CIS 4400/Homework1/Mental_Health_Care_in_the_Last_4_Weeks.csv')\n",
    "\n",
    "# Connect to MongoDB\n",
    "client = MongoClient('mongodb://localhost:27017/')\n",
    "db = client['mental_health']\n",
    "collection = db['care_in_last_4_weeks']\n",
    "\n",
    "# Insert data into MongoDB\n",
    "collection.insert_many(df.to_dict('records'))\n",
    "\n",
    "print(\"Data inserted successfully\")\n"
   ]
  },
  {
   "cell_type": "code",
   "execution_count": null,
   "id": "9439978e",
   "metadata": {},
   "outputs": [],
   "source": []
  }
 ],
 "metadata": {
  "kernelspec": {
   "display_name": "Python 3 (ipykernel)",
   "language": "python",
   "name": "python3"
  },
  "language_info": {
   "codemirror_mode": {
    "name": "ipython",
    "version": 3
   },
   "file_extension": ".py",
   "mimetype": "text/x-python",
   "name": "python",
   "nbconvert_exporter": "python",
   "pygments_lexer": "ipython3",
   "version": "3.11.5"
  }
 },
 "nbformat": 4,
 "nbformat_minor": 5
}
