{
 "cells": [
  {
   "cell_type": "code",
   "execution_count": 1,
   "id": "263151e8",
   "metadata": {},
   "outputs": [
    {
     "name": "stdout",
     "output_type": "stream",
     "text": [
      "<class 'pandas.core.frame.DataFrame'>\n",
      "RangeIndex: 9914 entries, 0 to 9913\n",
      "Data columns (total 18 columns):\n",
      " #   Column                  Non-Null Count  Dtype  \n",
      "---  ------                  --------------  -----  \n",
      " 0   Indicator               9914 non-null   object \n",
      " 1   Group                   9914 non-null   object \n",
      " 2   State                   9914 non-null   object \n",
      " 3   Subgroup                9914 non-null   object \n",
      " 4   Phase                   9914 non-null   object \n",
      " 5   Time Period             9914 non-null   int64  \n",
      " 6   Time Period Label       9914 non-null   object \n",
      " 7   Time Period Start Date  9914 non-null   object \n",
      " 8   Time Period End Date    9914 non-null   object \n",
      " 9   Value                   9914 non-null   float64\n",
      " 10  LowCI                   9914 non-null   float64\n",
      " 11  HighCI                  9914 non-null   float64\n",
      " 12  Confidence Interval     9914 non-null   object \n",
      " 13  Quartile Range          6723 non-null   object \n",
      " 14  Suppression Flag        0 non-null      float64\n",
      " 15  Start Year              9914 non-null   int64  \n",
      " 16  Start Month             9914 non-null   int64  \n",
      " 17  Start Day               9914 non-null   int64  \n",
      "dtypes: float64(4), int64(4), object(10)\n",
      "memory usage: 1.4+ MB\n",
      "None\n",
      "                                           Indicator              Group  \\\n",
      "0  Took Prescription Medication for Mental Health...  National Estimate   \n",
      "1  Took Prescription Medication for Mental Health...             By Age   \n",
      "2  Took Prescription Medication for Mental Health...             By Age   \n",
      "3  Took Prescription Medication for Mental Health...             By Age   \n",
      "4  Took Prescription Medication for Mental Health...             By Age   \n",
      "\n",
      "           State       Subgroup Phase  Time Period      Time Period Label  \\\n",
      "0  United States  United States     2           13  Aug 19 - Aug 31, 2020   \n",
      "1  United States  18 - 29 years     2           13  Aug 19 - Aug 31, 2020   \n",
      "2  United States  30 - 39 years     2           13  Aug 19 - Aug 31, 2020   \n",
      "3  United States  40 - 49 years     2           13  Aug 19 - Aug 31, 2020   \n",
      "4  United States  50 - 59 years     2           13  Aug 19 - Aug 31, 2020   \n",
      "\n",
      "  Time Period Start Date Time Period End Date  Value  LowCI  HighCI  \\\n",
      "0             2020-08-19           2020-08-31   19.4   19.0    19.8   \n",
      "1             2020-08-19           2020-08-31   18.7   17.2    20.3   \n",
      "2             2020-08-19           2020-08-31   18.3   17.3    19.2   \n",
      "3             2020-08-19           2020-08-31   20.4   19.5    21.3   \n",
      "4             2020-08-19           2020-08-31   21.2   20.2    22.2   \n",
      "\n",
      "  Confidence Interval Quartile Range  Suppression Flag  Start Year  \\\n",
      "0         19.0 - 19.8            NaN               NaN        2020   \n",
      "1         17.2 - 20.3            NaN               NaN        2020   \n",
      "2         17.3 - 19.2            NaN               NaN        2020   \n",
      "3         19.5 - 21.3            NaN               NaN        2020   \n",
      "4         20.2 - 22.2            NaN               NaN        2020   \n",
      "\n",
      "   Start Month  Start Day  \n",
      "0            8         19  \n",
      "1            8         19  \n",
      "2            8         19  \n",
      "3            8         19  \n",
      "4            8         19  \n"
     ]
    }
   ],
   "source": [
    "import pandas as pd\n",
    "\n",
    "# Load the CSV file\n",
    "file_path = '/Users/nicholasnoto/Desktop/CIS 4400/Homework1/Mental_Health_Care_in_the_Last_4_Weeks.csv'\n",
    "data = pd.read_csv(file_path)\n",
    "\n",
    "# Display basic information about the data\n",
    "print(data.info())\n",
    "print(data.head())"
   ]
  },
  {
   "cell_type": "code",
   "execution_count": 2,
   "id": "bcd498f5",
   "metadata": {},
   "outputs": [
    {
     "name": "stdout",
     "output_type": "stream",
     "text": [
      "                Field Name                    Description Data Type\n",
      "0                Indicator       Description of indicator    object\n",
      "1                    Group              Grouping category    object\n",
      "2                    State                     State name    object\n",
      "3                 Subgroup              Subgroup category    object\n",
      "4                    Phase       Phase of data collection    object\n",
      "5              Time Period          Numerical time period     int64\n",
      "6        Time Period Label      Label for the time period    object\n",
      "7   Time Period Start Date  Start date of the time period    object\n",
      "8     Time Period End Date    End date of the time period    object\n",
      "9                    Value         Value of the indicator   float64\n",
      "10                   LowCI      Lower confidence interval   float64\n",
      "11                  HighCI     Higher confidence interval   float64\n",
      "12     Confidence Interval      Confidence interval range    object\n",
      "13          Quartile Range                 Quartile range    object\n",
      "14        Suppression Flag               Suppression flag   float64\n",
      "15              Start Year                     Start year     int64\n",
      "16             Start Month                    Start month     int64\n",
      "17               Start Day                      Start day     int64\n"
     ]
    }
   ],
   "source": [
    "import pandas as pd\n",
    "\n",
    "# Data Dictionary\n",
    "data_dictionary = {\n",
    "    'Field Name': data.columns,\n",
    "    'Description': [\n",
    "        'Description of indicator', 'Grouping category', 'State name', 'Subgroup category', 'Phase of data collection',\n",
    "        'Numerical time period', 'Label for the time period', 'Start date of the time period', 'End date of the time period',\n",
    "        'Value of the indicator', 'Lower confidence interval', 'Higher confidence interval', 'Confidence interval range',\n",
    "        'Quartile range', 'Suppression flag', 'Start year', 'Start month', 'Start day'\n",
    "    ],\n",
    "    'Data Type': [str(data[col].dtype) for col in data.columns]\n",
    "}\n",
    "\n",
    "data_dict_df = pd.DataFrame(data_dictionary)\n",
    "data_dict_df.to_csv('/Users/nicholasnoto/Desktop/CIS 4400/Homework1/data_dictionary.csv', index=False)\n",
    "\n",
    "# Display the data dictionary\n",
    "print(data_dict_df)\n"
   ]
  },
  {
   "cell_type": "code",
   "execution_count": null,
   "id": "52b45c6c",
   "metadata": {},
   "outputs": [],
   "source": []
  }
 ],
 "metadata": {
  "kernelspec": {
   "display_name": "Python 3 (ipykernel)",
   "language": "python",
   "name": "python3"
  },
  "language_info": {
   "codemirror_mode": {
    "name": "ipython",
    "version": 3
   },
   "file_extension": ".py",
   "mimetype": "text/x-python",
   "name": "python",
   "nbconvert_exporter": "python",
   "pygments_lexer": "ipython3",
   "version": "3.11.5"
  }
 },
 "nbformat": 4,
 "nbformat_minor": 5
}
