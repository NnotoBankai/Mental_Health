{
 "cells": [
  {
   "cell_type": "code",
   "execution_count": 1,
   "id": "f756c963",
   "metadata": {},
   "outputs": [
    {
     "name": "stdout",
     "output_type": "stream",
     "text": [
      "             Subgroup      Value\n",
      "0       18 - 29 years  20.774242\n",
      "1       30 - 39 years  19.698485\n",
      "2       40 - 49 years  17.843182\n",
      "3       50 - 59 years  16.612121\n",
      "4       60 - 69 years  14.155303\n",
      "5       70 - 79 years  11.773485\n",
      "6  80 years and above  10.308403\n",
      "Analysis inserted into MongoDB collection 'age_group_analysis'\n"
     ]
    }
   ],
   "source": [
    "from pymongo import MongoClient\n",
    "import pandas as pd\n",
    "\n",
    "# MongoDB connection string\n",
    "client = MongoClient('mongodb://localhost:27017')\n",
    "\n",
    "# Select the database and collection\n",
    "db = client['mental_health_care_db']\n",
    "collection = db['care_records']\n",
    "\n",
    "# Convert the entire collection to a DataFrame\n",
    "data = pd.DataFrame(list(collection.find()))\n",
    "\n",
    "# Business Question: \"What is the prevalence of mental health medication usage across different age groups?\"\n",
    "\n",
    "# Group the data by 'Subgroup' assuming it contains the age groups and calculate the mean of 'Value' which represents the usage\n",
    "age_group_analysis = data[data['Group'] == 'By Age'].groupby('Subgroup')['Value'].mean().reset_index()\n",
    "\n",
    "# Display the result\n",
    "print(age_group_analysis)\n",
    "\n",
    "# To insert the result back into MongoDB:\n",
    "result_collection = db['age_group_analysis']\n",
    "result_collection.insert_many(age_group_analysis.to_dict('records'))\n",
    "\n",
    "print(\"Analysis inserted into MongoDB collection 'age_group_analysis'\")\n"
   ]
  },
  {
   "cell_type": "code",
   "execution_count": null,
   "id": "d6433013",
   "metadata": {},
   "outputs": [],
   "source": []
  }
 ],
 "metadata": {
  "kernelspec": {
   "display_name": "Python 3 (ipykernel)",
   "language": "python",
   "name": "python3"
  },
  "language_info": {
   "codemirror_mode": {
    "name": "ipython",
    "version": 3
   },
   "file_extension": ".py",
   "mimetype": "text/x-python",
   "name": "python",
   "nbconvert_exporter": "python",
   "pygments_lexer": "ipython3",
   "version": "3.11.5"
  }
 },
 "nbformat": 4,
 "nbformat_minor": 5
}
