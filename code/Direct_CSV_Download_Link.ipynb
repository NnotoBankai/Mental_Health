{
 "cells": [
  {
   "cell_type": "code",
   "execution_count": 1,
   "id": "4d938c34",
   "metadata": {},
   "outputs": [
    {
     "name": "stdout",
     "output_type": "stream",
     "text": [
      "File downloaded successfully.\n"
     ]
    }
   ],
   "source": [
    "import requests\n",
    "\n",
    "# Direct CSV download link\n",
    "file_url = 'https://data.cdc.gov/api/views/yni7-er2q/rows.csv?accessType=DOWNLOAD'\n",
    "\n",
    "# Send a GET request to download the file\n",
    "response = requests.get(file_url)\n",
    "\n",
    "# Check if the request was successful (HTTP status code 200)\n",
    "if response.status_code == 200:\n",
    "    # Define the path and name for the downloaded file\n",
    "    output_file_path = 'Mental_Health_Care_in_the_Last_4_Weeks.csv'\n",
    "    \n",
    "    # Open the file in write-binary mode and write the content\n",
    "    with open(output_file_path, 'wb') as file:\n",
    "        file.write(response.content)\n",
    "    \n",
    "    print(\"File downloaded successfully.\")\n",
    "else:\n",
    "    print(\"Failed to download the file. Status code:\", response.status_code)\n"
   ]
  },
  {
   "cell_type": "code",
   "execution_count": null,
   "id": "bbe70564",
   "metadata": {},
   "outputs": [],
   "source": []
  }
 ],
 "metadata": {
  "kernelspec": {
   "display_name": "Python 3 (ipykernel)",
   "language": "python",
   "name": "python3"
  },
  "language_info": {
   "codemirror_mode": {
    "name": "ipython",
    "version": 3
   },
   "file_extension": ".py",
   "mimetype": "text/x-python",
   "name": "python",
   "nbconvert_exporter": "python",
   "pygments_lexer": "ipython3",
   "version": "3.11.5"
  }
 },
 "nbformat": 4,
 "nbformat_minor": 5
}
