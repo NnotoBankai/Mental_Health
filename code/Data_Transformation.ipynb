{
 "cells": [
  {
   "cell_type": "code",
   "execution_count": 1,
   "id": "68e54a7f",
   "metadata": {},
   "outputs": [
    {
     "name": "stdout",
     "output_type": "stream",
     "text": [
      "Data transformation completed and saved to: /Users/nicholasnoto/Desktop/CIS 4400/Homework1/Transformed_Mental_Health_Care_in_the_Last_4_Weeks.csv\n"
     ]
    }
   ],
   "source": [
    "import pandas as pd\n",
    "\n",
    "# Load the data\n",
    "file_path = '/Users/nicholasnoto/Desktop/CIS 4400/Homework1/Mental_Health_Care_in_the_Last_4_Weeks.csv'\n",
    "df = pd.read_csv(file_path)\n",
    "\n",
    "# Unify date format\n",
    "df['Time Period Start Date'] = pd.to_datetime(df['Time Period Start Date']).dt.strftime('%Y-%m-%d')\n",
    "df['Time Period End Date'] = pd.to_datetime(df['Time Period End Date']).dt.strftime('%Y-%m-%d')\n",
    "\n",
    "# Split date into components\n",
    "df['Start Year'] = pd.to_datetime(df['Time Period Start Date']).dt.year\n",
    "df['Start Month'] = pd.to_datetime(df['Time Period Start Date']).dt.month\n",
    "df['Start Day'] = pd.to_datetime(df['Time Period Start Date']).dt.day\n",
    "\n",
    "# Remove NULL values\n",
    "df.dropna(inplace=True)\n",
    "\n",
    "# Remove duplicate rows\n",
    "df.drop_duplicates(inplace=True)\n",
    "\n",
    "# Verify data against reference data (example: verify states)\n",
    "valid_states = ['United States', 'Alabama', 'Alaska', ...]  # Add all valid states\n",
    "df = df[df['State'].isin(valid_states)]\n",
    "\n",
    "# Use correct data types\n",
    "df['Value'] = df['Value'].astype(float)\n",
    "df['LowCI'] = df['LowCI'].astype(float)\n",
    "df['HighCI'] = df['HighCI'].astype(float)\n",
    "\n",
    "# Add/Transform Columns (example: calculate confidence interval range)\n",
    "df['Confidence Interval Range'] = df['HighCI'] - df['LowCI']\n",
    "\n",
    "# Save the transformed data\n",
    "transformed_file_path = '/Users/nicholasnoto/Desktop/CIS 4400/Homework1/Transformed_Mental_Health_Care_in_the_Last_4_Weeks.csv'\n",
    "df.to_csv(transformed_file_path, index=False)\n",
    "\n",
    "print(\"Data transformation completed and saved to:\", transformed_file_path)\n"
   ]
  },
  {
   "cell_type": "code",
   "execution_count": null,
   "id": "a8c4cf9d",
   "metadata": {},
   "outputs": [],
   "source": []
  }
 ],
 "metadata": {
  "kernelspec": {
   "display_name": "Python 3 (ipykernel)",
   "language": "python",
   "name": "python3"
  },
  "language_info": {
   "codemirror_mode": {
    "name": "ipython",
    "version": 3
   },
   "file_extension": ".py",
   "mimetype": "text/x-python",
   "name": "python",
   "nbconvert_exporter": "python",
   "pygments_lexer": "ipython3",
   "version": "3.11.5"
  }
 },
 "nbformat": 4,
 "nbformat_minor": 5
}
