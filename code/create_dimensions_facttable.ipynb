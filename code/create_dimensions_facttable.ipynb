{
 "cells": [
  {
   "cell_type": "code",
   "execution_count": 8,
   "id": "63fe8c7d",
   "metadata": {},
   "outputs": [
    {
     "name": "stdout",
     "output_type": "stream",
     "text": [
      "DimIndicator data inserted into DimIndicator collection.\n",
      "DimTime data inserted into DimTime collection.\n",
      "DimLocation data inserted into DimLocation collection.\n",
      "FactMentalHealth data inserted into FactMentalHealth collection.\n",
      "\n",
      "DimIndicator collection sample data:\n",
      "{'_id': ObjectId('6644bca9301ef9cf864181e3'), 'Indicator': 'Took Prescription Medication for Mental Health, Last 4 Weeks', 'type': 'DimIndicator'}\n",
      "{'_id': ObjectId('6644bca9301ef9cf864181e4'), 'Indicator': 'Received Counseling or Therapy, Last 4 Weeks', 'type': 'DimIndicator'}\n",
      "{'_id': ObjectId('6644bca9301ef9cf864181e5'), 'Indicator': 'Took Prescription Medication for Mental Health And/Or Received Counseling or Therapy, Last 4 Weeks', 'type': 'DimIndicator'}\n",
      "{'_id': ObjectId('6644bca9301ef9cf864181e6'), 'Indicator': 'Needed Counseling or Therapy But Did Not Get It, Last 4 Weeks', 'type': 'DimIndicator'}\n",
      "\n",
      "DimTime collection sample data:\n",
      "{'_id': ObjectId('6644bca9301ef9cf864181e7'), 'Time Period': 13, 'Time Period Label': 'Aug 19 - Aug 31, 2020', 'Time Period Start Date': '2020-08-19', 'Time Period End Date': '2020-08-31', 'Start Year': 2020, 'Start Month': 8, 'Start Day': 19, 'type': 'DimTime'}\n",
      "{'_id': ObjectId('6644bca9301ef9cf864181e8'), 'Time Period': 14, 'Time Period Label': 'Sep 2 - Sep 14, 2020', 'Time Period Start Date': '2020-09-02', 'Time Period End Date': '2020-09-14', 'Start Year': 2020, 'Start Month': 9, 'Start Day': 2, 'type': 'DimTime'}\n",
      "{'_id': ObjectId('6644bca9301ef9cf864181e9'), 'Time Period': 15, 'Time Period Label': 'Sep 16 - Sep 28, 2020', 'Time Period Start Date': '2020-09-16', 'Time Period End Date': '2020-09-28', 'Start Year': 2020, 'Start Month': 9, 'Start Day': 16, 'type': 'DimTime'}\n",
      "{'_id': ObjectId('6644bca9301ef9cf864181ea'), 'Time Period': 16, 'Time Period Label': 'Sep 30 - Oct 12, 2020', 'Time Period Start Date': '2020-09-30', 'Time Period End Date': '2020-10-12', 'Start Year': 2020, 'Start Month': 9, 'Start Day': 30, 'type': 'DimTime'}\n",
      "{'_id': ObjectId('6644bca9301ef9cf864181eb'), 'Time Period': 17, 'Time Period Label': 'Oct 14 - Oct 26, 2020', 'Time Period Start Date': '2020-10-14', 'Time Period End Date': '2020-10-26', 'Start Year': 2020, 'Start Month': 10, 'Start Day': 14, 'type': 'DimTime'}\n",
      "\n",
      "DimLocation collection sample data:\n",
      "{'_id': ObjectId('6644bca9301ef9cf86418208'), 'State': 'United States', 'type': 'DimLocation'}\n",
      "{'_id': ObjectId('6644bca9301ef9cf86418209'), 'State': 'Alabama', 'type': 'DimLocation'}\n",
      "{'_id': ObjectId('6644bca9301ef9cf8641820a'), 'State': 'Alaska', 'type': 'DimLocation'}\n",
      "{'_id': ObjectId('6644bca9301ef9cf8641820b'), 'State': 'Arizona', 'type': 'DimLocation'}\n",
      "{'_id': ObjectId('6644bca9301ef9cf8641820c'), 'State': 'Arkansas', 'type': 'DimLocation'}\n",
      "\n",
      "FactMentalHealth collection sample data:\n",
      "{'_id': ObjectId('6644bca9301ef9cf8641823c'), 'Indicator': 'Took Prescription Medication for Mental Health, Last 4 Weeks', 'Group': 'National Estimate', 'State': 'United States', 'Subgroup': 'United States', 'Phase': '2', 'Time Period': 13, 'Time Period Label': 'Aug 19 - Aug 31, 2020', 'Time Period Start Date': '2020-08-19', 'Time Period End Date': '2020-08-31', 'Value': 19.4, 'LowCI': 19.0, 'HighCI': 19.8, 'Confidence Interval': '19.0 - 19.8', 'Quartile Range': nan, 'Suppression Flag': nan, 'Start Year': 2020, 'Start Month': 8, 'Start Day': 19, 'type': 'FactMentalHealth'}\n",
      "{'_id': ObjectId('6644bca9301ef9cf8641823d'), 'Indicator': 'Took Prescription Medication for Mental Health, Last 4 Weeks', 'Group': 'By Age', 'State': 'United States', 'Subgroup': '18 - 29 years', 'Phase': '2', 'Time Period': 13, 'Time Period Label': 'Aug 19 - Aug 31, 2020', 'Time Period Start Date': '2020-08-19', 'Time Period End Date': '2020-08-31', 'Value': 18.7, 'LowCI': 17.2, 'HighCI': 20.3, 'Confidence Interval': '17.2 - 20.3', 'Quartile Range': nan, 'Suppression Flag': nan, 'Start Year': 2020, 'Start Month': 8, 'Start Day': 19, 'type': 'FactMentalHealth'}\n",
      "{'_id': ObjectId('6644bca9301ef9cf8641823e'), 'Indicator': 'Took Prescription Medication for Mental Health, Last 4 Weeks', 'Group': 'By Age', 'State': 'United States', 'Subgroup': '30 - 39 years', 'Phase': '2', 'Time Period': 13, 'Time Period Label': 'Aug 19 - Aug 31, 2020', 'Time Period Start Date': '2020-08-19', 'Time Period End Date': '2020-08-31', 'Value': 18.3, 'LowCI': 17.3, 'HighCI': 19.2, 'Confidence Interval': '17.3 - 19.2', 'Quartile Range': nan, 'Suppression Flag': nan, 'Start Year': 2020, 'Start Month': 8, 'Start Day': 19, 'type': 'FactMentalHealth'}\n",
      "{'_id': ObjectId('6644bca9301ef9cf8641823f'), 'Indicator': 'Took Prescription Medication for Mental Health, Last 4 Weeks', 'Group': 'By Age', 'State': 'United States', 'Subgroup': '40 - 49 years', 'Phase': '2', 'Time Period': 13, 'Time Period Label': 'Aug 19 - Aug 31, 2020', 'Time Period Start Date': '2020-08-19', 'Time Period End Date': '2020-08-31', 'Value': 20.4, 'LowCI': 19.5, 'HighCI': 21.3, 'Confidence Interval': '19.5 - 21.3', 'Quartile Range': nan, 'Suppression Flag': nan, 'Start Year': 2020, 'Start Month': 8, 'Start Day': 19, 'type': 'FactMentalHealth'}\n",
      "{'_id': ObjectId('6644bca9301ef9cf86418240'), 'Indicator': 'Took Prescription Medication for Mental Health, Last 4 Weeks', 'Group': 'By Age', 'State': 'United States', 'Subgroup': '50 - 59 years', 'Phase': '2', 'Time Period': 13, 'Time Period Label': 'Aug 19 - Aug 31, 2020', 'Time Period Start Date': '2020-08-19', 'Time Period End Date': '2020-08-31', 'Value': 21.2, 'LowCI': 20.2, 'HighCI': 22.2, 'Confidence Interval': '20.2 - 22.2', 'Quartile Range': nan, 'Suppression Flag': nan, 'Start Year': 2020, 'Start Month': 8, 'Start Day': 19, 'type': 'FactMentalHealth'}\n"
     ]
    }
   ],
   "source": [
    "from pymongo import MongoClient\n",
    "import pandas as pd\n",
    "\n",
    "# Load the dataset\n",
    "csv_path = '/Users/nicholasnoto/Desktop/CIS 4400/Homework1/Mental_Health_Care_in_the_Last_4_Weeks.csv'\n",
    "df = pd.read_csv(csv_path)\n",
    "\n",
    "# Connect to MongoDB\n",
    "client = MongoClient('mongodb://localhost:27017/')\n",
    "db = client['mental_health']\n",
    "\n",
    "# Function to insert data into MongoDB with a type field\n",
    "def insert_with_type(dataframe, collection_name, type_name):\n",
    "    dataframe['type'] = type_name\n",
    "    collection = db[collection_name]\n",
    "    collection.insert_many(dataframe.to_dict('records'))\n",
    "    print(f\"{type_name} data inserted into {collection_name} collection.\")\n",
    "\n",
    "# Create and populate DimIndicator\n",
    "indicator_data = df[['Indicator']].drop_duplicates().dropna().reset_index(drop=True)\n",
    "insert_with_type(indicator_data, 'DimIndicator', 'DimIndicator')\n",
    "\n",
    "# Create and populate DimTime\n",
    "time_data = df[['Time Period', 'Time Period Label', 'Time Period Start Date', 'Time Period End Date', 'Start Year', 'Start Month', 'Start Day']].drop_duplicates().dropna().reset_index(drop=True)\n",
    "insert_with_type(time_data, 'DimTime', 'DimTime')\n",
    "\n",
    "# Create and populate DimLocation\n",
    "location_data = df[['State']].drop_duplicates().dropna().reset_index(drop=True)\n",
    "insert_with_type(location_data, 'DimLocation', 'DimLocation')\n",
    "\n",
    "# Create and populate FactMentalHealth\n",
    "fact_data = df.copy()\n",
    "insert_with_type(fact_data, 'FactMentalHealth', 'FactMentalHealth')\n",
    "\n",
    "# Verify the data\n",
    "def verify_collection(collection_name):\n",
    "    collection = db[collection_name]\n",
    "    print(f\"\\n{collection_name} collection sample data:\")\n",
    "    for doc in collection.find().limit(5):\n",
    "        print(doc)\n",
    "\n",
    "verify_collection('DimIndicator')\n",
    "verify_collection('DimTime')\n",
    "verify_collection('DimLocation')\n",
    "verify_collection('FactMentalHealth')\n"
   ]
  },
  {
   "cell_type": "code",
   "execution_count": null,
   "id": "a03493cc",
   "metadata": {},
   "outputs": [],
   "source": []
  }
 ],
 "metadata": {
  "kernelspec": {
   "display_name": "Python 3 (ipykernel)",
   "language": "python",
   "name": "python3"
  },
  "language_info": {
   "codemirror_mode": {
    "name": "ipython",
    "version": 3
   },
   "file_extension": ".py",
   "mimetype": "text/x-python",
   "name": "python",
   "nbconvert_exporter": "python",
   "pygments_lexer": "ipython3",
   "version": "3.11.5"
  }
 },
 "nbformat": 4,
 "nbformat_minor": 5
}
