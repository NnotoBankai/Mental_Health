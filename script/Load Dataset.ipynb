{
 "cells": [
  {
   "cell_type": "code",
   "execution_count": 3,
   "id": "e3984f4d",
   "metadata": {},
   "outputs": [
    {
     "name": "stdout",
     "output_type": "stream",
     "text": [
      "                                               Indicator              Group  \\\n",
      "0      Took Prescription Medication for Mental Health...  National Estimate   \n",
      "1      Took Prescription Medication for Mental Health...             By Age   \n",
      "2      Took Prescription Medication for Mental Health...             By Age   \n",
      "3      Took Prescription Medication for Mental Health...             By Age   \n",
      "4      Took Prescription Medication for Mental Health...             By Age   \n",
      "...                                                  ...                ...   \n",
      "10399  Needed Counseling or Therapy But Did Not Get I...           By State   \n",
      "10400  Needed Counseling or Therapy But Did Not Get I...           By State   \n",
      "10401  Needed Counseling or Therapy But Did Not Get I...           By State   \n",
      "10402  Needed Counseling or Therapy But Did Not Get I...           By State   \n",
      "10403  Needed Counseling or Therapy But Did Not Get I...           By State   \n",
      "\n",
      "               State       Subgroup Phase  Time Period      Time Period Label  \\\n",
      "0      United States  United States     2           13  Aug 19 - Aug 31, 2020   \n",
      "1      United States  18 - 29 years     2           13  Aug 19 - Aug 31, 2020   \n",
      "2      United States  30 - 39 years     2           13  Aug 19 - Aug 31, 2020   \n",
      "3      United States  40 - 49 years     2           13  Aug 19 - Aug 31, 2020   \n",
      "4      United States  50 - 59 years     2           13  Aug 19 - Aug 31, 2020   \n",
      "...              ...            ...   ...          ...                    ...   \n",
      "10399       Virginia       Virginia   3.4           45   Apr 27 - May 9, 2022   \n",
      "10400     Washington     Washington   3.4           45   Apr 27 - May 9, 2022   \n",
      "10401  West Virginia  West Virginia   3.4           45   Apr 27 - May 9, 2022   \n",
      "10402      Wisconsin      Wisconsin   3.4           45   Apr 27 - May 9, 2022   \n",
      "10403        Wyoming        Wyoming   3.4           45   Apr 27 - May 9, 2022   \n",
      "\n",
      "      Time Period Start Date Time Period End Date  Value  LowCI  HighCI  \\\n",
      "0                 08/19/2020           08/31/2020   19.4   19.0    19.8   \n",
      "1                 08/19/2020           08/31/2020   18.7   17.2    20.3   \n",
      "2                 08/19/2020           08/31/2020   18.3   17.3    19.2   \n",
      "3                 08/19/2020           08/31/2020   20.4   19.5    21.3   \n",
      "4                 08/19/2020           08/31/2020   21.2   20.2    22.2   \n",
      "...                      ...                  ...    ...    ...     ...   \n",
      "10399             04/27/2022           05/09/2022   10.1    7.1    13.8   \n",
      "10400             04/27/2022           05/09/2022   14.8   12.5    17.4   \n",
      "10401             04/27/2022           05/09/2022    9.8    6.6    13.8   \n",
      "10402             04/27/2022           05/09/2022   11.6    8.5    15.3   \n",
      "10403             04/27/2022           05/09/2022   11.5    8.6    15.1   \n",
      "\n",
      "      Confidence Interval Quartile Range  Suppression Flag  \n",
      "0             19.0 - 19.8            NaN               NaN  \n",
      "1             17.2 - 20.3            NaN               NaN  \n",
      "2             17.3 - 19.2            NaN               NaN  \n",
      "3             19.5 - 21.3            NaN               NaN  \n",
      "4             20.2 - 22.2            NaN               NaN  \n",
      "...                   ...            ...               ...  \n",
      "10399          7.1 - 13.8       9.6-11.3               NaN  \n",
      "10400         12.5 - 17.4      13.0-20.8               NaN  \n",
      "10401          6.6 - 13.8       9.6-11.3               NaN  \n",
      "10402          8.5 - 15.3      11.4-12.9               NaN  \n",
      "10403          8.6 - 15.1      11.4-12.9               NaN  \n",
      "\n",
      "[10404 rows x 15 columns]\n"
     ]
    }
   ],
   "source": [
    "import pandas as pd\n",
    "\n",
    "# Load the dataset\n",
    "data = pd.read_csv('/Users/nicholasnoto/Desktop/CIS 4400/Homework1/Mental_Health_Care_in_the_Last_4_Weeks.csv')\n",
    "\n",
    "# Display the first few rows\n",
    "print(data)\n"
   ]
  },
  {
   "cell_type": "code",
   "execution_count": null,
   "id": "cbe8508e",
   "metadata": {},
   "outputs": [],
   "source": []
  }
 ],
 "metadata": {
  "kernelspec": {
   "display_name": "Python 3 (ipykernel)",
   "language": "python",
   "name": "python3"
  },
  "language_info": {
   "codemirror_mode": {
    "name": "ipython",
    "version": 3
   },
   "file_extension": ".py",
   "mimetype": "text/x-python",
   "name": "python",
   "nbconvert_exporter": "python",
   "pygments_lexer": "ipython3",
   "version": "3.11.5"
  }
 },
 "nbformat": 4,
 "nbformat_minor": 5
}
