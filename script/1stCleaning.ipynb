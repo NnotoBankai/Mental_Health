{
 "cells": [
  {
   "cell_type": "code",
   "execution_count": 2,
   "id": "a2274d18",
   "metadata": {},
   "outputs": [
    {
     "name": "stdout",
     "output_type": "stream",
     "text": [
      "Indicator                     0\n",
      "Group                         0\n",
      "State                         0\n",
      "Subgroup                      0\n",
      "Phase                         0\n",
      "Time Period                   0\n",
      "Time Period Label             0\n",
      "Time Period Start Date        0\n",
      "Time Period End Date          0\n",
      "Value                       490\n",
      "LowCI                       490\n",
      "HighCI                      490\n",
      "Confidence Interval         490\n",
      "Quartile Range             3672\n",
      "Suppression Flag          10382\n",
      "dtype: int64\n"
     ]
    }
   ],
   "source": [
    "import pandas as pd\n",
    "\n",
    "# Load the dataset\n",
    "data = pd.read_csv('/Users/nicholasnoto/Desktop/CIS 4400/Homework1/Mental_Health_Care_in_the_Last_4_Weeks.csv')\n",
    "\n",
    "# Checking for missing values\n",
    "print(data.isnull().sum())\n",
    "\n",
    "# Handling missing values (Example: Dropping rows where any cell is NaN)\n",
    "data_cleaned = data.dropna(how='any')\n",
    "\n",
    "# Convert date columns to datetime objects\n",
    "data_cleaned['Time Period Start Date'] = pd.to_datetime(data_cleaned['Time Period Start Date'])\n",
    "data_cleaned['Time Period End Date'] = pd.to_datetime(data_cleaned['Time Period End Date'])"
   ]
  },
  {
   "cell_type": "code",
   "execution_count": null,
   "id": "82fce85b",
   "metadata": {},
   "outputs": [],
   "source": []
  }
 ],
 "metadata": {
  "kernelspec": {
   "display_name": "Python 3 (ipykernel)",
   "language": "python",
   "name": "python3"
  },
  "language_info": {
   "codemirror_mode": {
    "name": "ipython",
    "version": 3
   },
   "file_extension": ".py",
   "mimetype": "text/x-python",
   "name": "python",
   "nbconvert_exporter": "python",
   "pygments_lexer": "ipython3",
   "version": "3.11.5"
  }
 },
 "nbformat": 4,
 "nbformat_minor": 5
}
