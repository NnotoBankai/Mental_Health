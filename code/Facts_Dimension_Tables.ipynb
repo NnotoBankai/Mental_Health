{
 "cells": [
  {
   "cell_type": "code",
   "execution_count": 1,
   "id": "9d2baf62",
   "metadata": {},
   "outputs": [
    {
     "name": "stdout",
     "output_type": "stream",
     "text": [
      "Fact and dimension tables created and populated successfully\n"
     ]
    }
   ],
   "source": [
    "import pandas as pd\n",
    "from pymongo import MongoClient\n",
    "\n",
    "# Load the CSV data\n",
    "file_path = '/Users/nicholasnoto/Desktop/CIS 4400/Homework1/Mental_Health_Care_in_the_Last_4_Weeks.csv'\n",
    "df = pd.read_csv(file_path)\n",
    "\n",
    "# Connect to MongoDB\n",
    "client = MongoClient('mongodb://localhost:27017/')\n",
    "db = client['mental_health']\n",
    "\n",
    "# Create and populate dimension tables\n",
    "def create_dimension_table(df, column_name):\n",
    "    unique_values = df[[column_name]].drop_duplicates().reset_index(drop=True)\n",
    "    unique_values = unique_values.rename(columns={column_name: 'value'})\n",
    "    unique_values['_id'] = unique_values.index + 1\n",
    "    collection_name = f'dim_{column_name.lower()}'\n",
    "    db[collection_name].insert_many(unique_values.to_dict('records'))\n",
    "    return db[collection_name]\n",
    "\n",
    "# Creating dimension tables\n",
    "dim_group = create_dimension_table(df, 'Group')\n",
    "dim_state = create_dimension_table(df, 'State')\n",
    "dim_subgroup = create_dimension_table(df, 'Subgroup')\n",
    "dim_phase = create_dimension_table(df, 'Phase')\n",
    "dim_time_period = create_dimension_table(df, 'Time Period')\n",
    "dim_time_period_label = create_dimension_table(df, 'Time Period Label')\n",
    "\n",
    "# Replace dimension values in fact table with their respective IDs\n",
    "def replace_with_id(df, column_name):\n",
    "    collection_name = f'dim_{column_name.lower()}'\n",
    "    dim_collection = db[collection_name]\n",
    "    dim_map = {doc['value']: doc['_id'] for doc in dim_collection.find({})}\n",
    "    df[column_name] = df[column_name].map(dim_map)\n",
    "    return df\n",
    "\n",
    "# Replace values with IDs in the fact table\n",
    "fact_table = df.copy()\n",
    "fact_table = replace_with_id(fact_table, 'Group')\n",
    "fact_table = replace_with_id(fact_table, 'State')\n",
    "fact_table = replace_with_id(fact_table, 'Subgroup')\n",
    "fact_table = replace_with_id(fact_table, 'Phase')\n",
    "fact_table = replace_with_id(fact_table, 'Time Period')\n",
    "fact_table = replace_with_id(fact_table, 'Time Period Label')\n",
    "\n",
    "# Create and populate the fact table\n",
    "fact_table_name = 'fact_mental_health_care'\n",
    "db[fact_table_name].insert_many(fact_table.to_dict('records'))\n",
    "\n",
    "print(\"Fact and dimension tables created and populated successfully\")\n"
   ]
  },
  {
   "cell_type": "code",
   "execution_count": null,
   "id": "680a7e78",
   "metadata": {},
   "outputs": [],
   "source": []
  }
 ],
 "metadata": {
  "kernelspec": {
   "display_name": "Python 3 (ipykernel)",
   "language": "python",
   "name": "python3"
  },
  "language_info": {
   "codemirror_mode": {
    "name": "ipython",
    "version": 3
   },
   "file_extension": ".py",
   "mimetype": "text/x-python",
   "name": "python",
   "nbconvert_exporter": "python",
   "pygments_lexer": "ipython3",
   "version": "3.11.5"
  }
 },
 "nbformat": 4,
 "nbformat_minor": 5
}
